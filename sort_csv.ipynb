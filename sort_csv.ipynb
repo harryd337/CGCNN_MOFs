{
 "cells": [
  {
   "cell_type": "code",
   "execution_count": 1,
   "id": "10bd2821",
   "metadata": {},
   "outputs": [],
   "source": [
    "import pandas as pd\n",
    "import os\n",
    "from pathlib import Path\n",
    "\n",
    "def create_single_label_csv(target_pressure):\n",
    "    co2_data_all_labels = pd.read_csv('co2_data_all_labels.csv')\n",
    "    co2_data_all_labels.drop('surface_area_m2g', axis=1, inplace=True)\n",
    "\n",
    "    target_pressure = f'{target_pressure}'\n",
    "    columns_to_keep = ['id', 'surface_area_m2cm3', 'void_fraction', 'lcd', 'pld', target_pressure]\n",
    "    co2_data_single_label = co2_data_all_labels.copy()\n",
    "    co2_data_single_label = co2_data_single_label[columns_to_keep]\n",
    "    co2_data_single_label.rename(columns={target_pressure: 'target'}, inplace=True)\n",
    "\n",
    "    # Reorder the columns as 'id', 'surface_area_m2_cm3', 'void_fraction', 'lcd', 'pld', 'target'\n",
    "    column_order = ['id', 'surface_area_m2cm3', 'void_fraction', 'lcd', 'pld', 'target']\n",
    "    co2_data_single_label = co2_data_single_label.reindex(columns=column_order)\n",
    "    co2_data_single_label = co2_data_single_label.set_index('id')\n",
    "    return co2_data_single_label\n",
    "\n",
    "def find_directory():\n",
    "    \"\"\"Finds the directory of the python script or Jupyter notebook.\n",
    "\n",
    "    Returns:\n",
    "        directory (str): directory of script.\n",
    "    \"\"\"\n",
    "    try:\n",
    "        shell = get_ipython().__class__.__name__\n",
    "        if shell == 'ZMQInteractiveShell':  # If running in a Jupter notebook\n",
    "            directory = os.getcwd()\n",
    "        else:\n",
    "            directory = Path(__file__).parent\n",
    "    except NameError:\n",
    "        directory = Path(__file__).parent\n",
    "    return directory\n",
    "\n",
    "def get_cif_IDs():\n",
    "    directory = find_directory()\n",
    "    cif_directory = f'{directory}/cif'\n",
    "    filenames = os.listdir(cif_directory)\n",
    "\n",
    "    # Remove file extensions and return list\n",
    "    cif_ids = [Path(file).stem for file in filenames if os.path.isfile(os.path.join(cif_directory, file))]\n",
    "    return cif_ids\n",
    "\n",
    "def build_training_val_set(target_pressure):\n",
    "    # Make dataframe with single label at a given pressure\n",
    "    co2_data_single_label = create_single_label_csv(target_pressure)\n",
    "\n",
    "    # Filter dataframe so that it only contains MOFs that have corresponding cif files\n",
    "    cif_ids = get_cif_IDs()\n",
    "    co2_data_single_label_training_val = co2_data_single_label[co2_data_single_label.index.isin(cif_ids)]\n",
    "\n",
    "    # Save csv as training+validation set\n",
    "    co2_data_single_label_training_val.to_csv('training_val.csv', header=False)"
   ]
  },
  {
   "cell_type": "code",
   "execution_count": 4,
   "id": "134bb18e",
   "metadata": {},
   "outputs": [],
   "source": [
    "build_training_val_set(target_pressure=0.1)"
   ]
  }
 ],
 "metadata": {
  "kernelspec": {
   "display_name": "Python 3 (ipykernel)",
   "language": "python",
   "name": "python3"
  },
  "language_info": {
   "codemirror_mode": {
    "name": "ipython",
    "version": 3
   },
   "file_extension": ".py",
   "mimetype": "text/x-python",
   "name": "python",
   "nbconvert_exporter": "python",
   "pygments_lexer": "ipython3",
   "version": "3.11.4"
  }
 },
 "nbformat": 4,
 "nbformat_minor": 5
}

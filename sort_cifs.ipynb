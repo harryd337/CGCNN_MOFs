{
 "cells": [
  {
   "cell_type": "code",
   "execution_count": 2,
   "id": "1d45fe0b",
   "metadata": {},
   "outputs": [],
   "source": [
    "import glob\n",
    "import shutil\n",
    "import os\n",
    "import pandas as pd\n",
    "import random\n",
    "from pathlib import Path\n",
    "\n",
    "def find_directory():\n",
    "    \"\"\"Finds the directory of the python script or Jupyter notebook.\n",
    "\n",
    "    Returns:\n",
    "        directory (str): directory of script.\n",
    "    \"\"\"\n",
    "    try:\n",
    "        shell = get_ipython().__class__.__name__\n",
    "        if shell == 'ZMQInteractiveShell':  # If running in a Jupter notebook\n",
    "            directory = os.getcwd()\n",
    "        else:\n",
    "            directory = Path(__file__).parent\n",
    "    except NameError:\n",
    "        directory = Path(__file__).parent\n",
    "    return directory\n",
    "\n",
    "def extract_cif_files(source_directory, output_directory):\n",
    "    #Extract cif files from directory\n",
    "\n",
    "    directory = find_directory()\n",
    "    file_path = f'{directory}/{source_directory}'\n",
    "    output_path = f'{directory}/{output_directory}'\n",
    "\n",
    "    cif_files = glob.glob(file_path + '/*.cif')\n",
    "\n",
    "    for cif_file in cif_files:\n",
    "        shutil.copy(cif_file, f'{output_path}/')"
   ]
  },
  {
   "cell_type": "code",
   "execution_count": null,
   "id": "ee800a45",
   "metadata": {},
   "outputs": [],
   "source": [
    "extract_cif_files(source_directory='CO2_MOFs', output_directory='cif')"
   ]
  }
 ],
 "metadata": {
  "kernelspec": {
   "display_name": "Python 3 (ipykernel)",
   "language": "python",
   "name": "python3"
  },
  "language_info": {
   "codemirror_mode": {
    "name": "ipython",
    "version": 3
   },
   "file_extension": ".py",
   "mimetype": "text/x-python",
   "name": "python",
   "nbconvert_exporter": "python",
   "pygments_lexer": "ipython3",
   "version": "3.9.16"
  }
 },
 "nbformat": 4,
 "nbformat_minor": 5
}

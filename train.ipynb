{
 "cells": [
  {
   "cell_type": "code",
   "execution_count": 2,
   "metadata": {},
   "outputs": [
    {
     "name": "stderr",
     "output_type": "stream",
     "text": [
      "/home/harry/miniconda3/envs/biogas/lib/python3.11/site-packages/pymatgen/io/cif.py:1120: UserWarning: Issues encountered while parsing CIF: Some fractional coordinates rounded to ideal values to avoid issues with finite precision.\n",
      "  warnings.warn(\"Issues encountered while parsing CIF: \" + \"\\n\".join(self.warnings))\n",
      "/home/harry/ML_GPU/CGCNN_MOFs/mofcgcnn/data.py:129: UserWarning: hMOF-12045 not find enough neighbors to build graph. If it happens frequently, consider increase radius.\n",
      "  warnings.warn('{} not find enough neighbors to build graph. '\n"
     ]
    },
    {
     "name": "stdout",
     "output_type": "stream",
     "text": [
      "Predicting  1  properties!!\n",
      "Epoch: [0][0/917]\tLoss 1355.5315 (1355.5315)\tMAE 26.423 (26.423)\n",
      "Epoch: [0][10/917]\tLoss 583.0637 (869.9751)\tMAE 17.067 (18.525)\n",
      "Epoch: [0][20/917]\tLoss 85.9104 (518.1649)\tMAE 6.677 (13.167)\n",
      "Epoch: [0][30/917]\tLoss 20.2477 (361.9257)\tMAE 3.232 (10.125)\n",
      "Epoch: [0][40/917]\tLoss 3.1591 (277.7235)\tMAE 1.124 (8.257)\n",
      "Epoch: [0][50/917]\tLoss 5.5194 (224.8829)\tMAE 1.526 (6.987)\n",
      "Epoch: [0][60/917]\tLoss 0.4826 (188.3262)\tMAE 0.362 (5.974)\n"
     ]
    },
    {
     "name": "stderr",
     "output_type": "stream",
     "text": [
      "/home/harry/ML_GPU/CGCNN_MOFs/mofcgcnn/data.py:129: UserWarning: hMOF-11936 not find enough neighbors to build graph. If it happens frequently, consider increase radius.\n",
      "  warnings.warn('{} not find enough neighbors to build graph. '\n"
     ]
    },
    {
     "name": "stdout",
     "output_type": "stream",
     "text": [
      "Epoch: [0][70/917]\tLoss 0.3806 (161.9071)\tMAE 0.380 (5.201)\n",
      "Epoch: [0][80/917]\tLoss 0.8149 (142.0248)\tMAE 0.430 (4.619)\n",
      "Epoch: [0][90/917]\tLoss 0.7441 (126.5061)\tMAE 0.456 (4.160)\n"
     ]
    }
   ],
   "source": [
    "from mof import MOF_CGCNN\n",
    "import csv\n",
    "from sklearn.model_selection import train_test_split\n",
    "import pandas as pd\n",
    "import os\n",
    "from pathlib import Path\n",
    "\n",
    "def create_single_label_df(molecule, target_pressure):\n",
    "    data_all_labels = pd.read_csv(f'{molecule}_data_all_labels.csv')\n",
    "    data_all_labels.drop('surface_area_m2g', axis=1, inplace=True)\n",
    "\n",
    "    target_pressure = f'{target_pressure}'\n",
    "    columns_to_keep = ['id', 'surface_area_m2cm3', 'void_fraction', 'lcd', 'pld', target_pressure]\n",
    "    data_single_label = data_all_labels.copy()\n",
    "    data_single_label = data_single_label[columns_to_keep]\n",
    "    data_single_label.rename(columns={target_pressure: 'target'}, inplace=True)\n",
    "\n",
    "    # Reorder the columns as 'id', 'surface_area_m2_cm3', 'void_fraction', 'lcd', 'pld', 'target'\n",
    "    column_order = ['id', 'surface_area_m2cm3', 'void_fraction', 'lcd', 'pld', 'target']\n",
    "    data_single_label = data_single_label.reindex(columns=column_order)\n",
    "    data_single_label = data_single_label.set_index('id')\n",
    "    return data_single_label\n",
    "\n",
    "def find_directory():\n",
    "    \"\"\"Finds the directory of the python script or Jupyter notebook.\n",
    "\n",
    "    Returns:\n",
    "        directory (str): directory of script.\n",
    "    \"\"\"\n",
    "    try:\n",
    "        shell = get_ipython().__class__.__name__\n",
    "        if shell == 'ZMQInteractiveShell':  # If running in a Jupter notebook\n",
    "            directory = os.getcwd()\n",
    "        else:\n",
    "            directory = Path(__file__).parent\n",
    "    except NameError:\n",
    "        directory = Path(__file__).parent\n",
    "    return directory\n",
    "\n",
    "def get_cif_IDs():\n",
    "    directory = find_directory()\n",
    "    cif_directory = f'{directory}/cif'\n",
    "    filenames = os.listdir(cif_directory)\n",
    "\n",
    "    # Remove file extensions and return list\n",
    "    cif_ids = [Path(file).stem for file in filenames if os.path.isfile(os.path.join(cif_directory, file))]\n",
    "    return cif_ids\n",
    "\n",
    "def build_dataset(molecule, target_pressure):\n",
    "    # Make dataframe with single label at a given pressure\n",
    "    data_single_label = create_single_label_df(molecule, target_pressure)\n",
    "\n",
    "    # Filter dataframe so that it only contains MOFs that have corresponding cif files\n",
    "    cif_ids = get_cif_IDs()\n",
    "    data_single_label = data_single_label[data_single_label.index.isin(cif_ids)]\n",
    "\n",
    "    # Save csv as training+validation set\n",
    "    data_single_label.to_csv('data.csv', header=False)\n",
    "    return data_single_label\n",
    "\n",
    "def split_dataset(molecule, target_pressure, train_val_test_split):\n",
    "    data_single_label = build_dataset(molecule=molecule, target_pressure=target_pressure)\n",
    "\n",
    "    # Split away the test set\n",
    "    training_val_set, test_set = train_test_split(data_single_label, test_size=train_val_test_split[2], random_state=42)\n",
    "\n",
    "    # Save these dataframes as .csv files\n",
    "    training_val_set.to_csv('training_val.csv', header=False)\n",
    "    test_set.to_csv('test.csv', header=False)\n",
    "\n",
    "# --- Hyperparameters ---\n",
    "molecule = 'co2'\n",
    "target_pressure = 0.1\n",
    "train_val_test_split = [0.7, 0.2, 0.1]\n",
    "epochs = 200\n",
    "# -----------------------\n",
    "    \n",
    "split_dataset(molecule, target_pressure, train_val_test_split)\n",
    "\n",
    "##read data\n",
    "with open('./training_val.csv') as f:\n",
    "    readerv = csv.reader(f)\n",
    "    trainandval = [row for row in readerv]\n",
    "with open('./test.csv') as f:\n",
    "    readerv = csv.reader(f)\n",
    "    test = [row for row in readerv]\n",
    "\n",
    "test_size = train_val_test_split[1] / (1 - train_val_test_split[2])\n",
    "train, val = train_test_split(trainandval, test_size=test_size, random_state=24)\n",
    "#file path\n",
    "root = './cif'\n",
    "#create a class\n",
    "mof = MOF_CGCNN(cuda=True,root_file=root,trainset = train, valset=val,testset=test,epoch = epochs,lr=0.002,optim='Adam',batch_size=24,h_fea_len=480,n_conv=5,lr_milestones=[200],weight_decay=1e-7,dropout=0.2)\n",
    "# train the model\n",
    "mof.train_MOF()"
   ]
  },
  {
   "cell_type": "code",
   "execution_count": null,
   "metadata": {},
   "outputs": [],
   "source": []
  }
 ],
 "metadata": {
  "kernelspec": {
   "display_name": "biogas",
   "language": "python",
   "name": "python3"
  },
  "language_info": {
   "codemirror_mode": {
    "name": "ipython",
    "version": 3
   },
   "file_extension": ".py",
   "mimetype": "text/x-python",
   "name": "python",
   "nbconvert_exporter": "python",
   "pygments_lexer": "ipython3",
   "version": "3.11.4"
  },
  "orig_nbformat": 4
 },
 "nbformat": 4,
 "nbformat_minor": 2
}
